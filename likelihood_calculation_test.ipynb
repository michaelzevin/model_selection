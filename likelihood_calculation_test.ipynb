{
 "cells": [
  {
   "cell_type": "markdown",
   "metadata": {},
   "source": [
    "## Calculating likelihoods"
   ]
  },
  {
   "cell_type": "code",
   "execution_count": 1,
   "metadata": {},
   "outputs": [
    {
     "name": "stdout",
     "output_type": "stream",
     "text": [
      "glasflow is using its own internal version of nflows\n"
     ]
    },
    {
     "name": "stderr",
     "output_type": "stream",
     "text": [
      "PyCBC.libutils: pkg-config call failed, setting NO_PKGCONFIG=1\n"
     ]
    }
   ],
   "source": [
    "import matplotlib.pyplot as plt\n",
    "import corner as corner\n",
    "import pandas as pd\n",
    "import numpy as np\n",
    "import h5py\n",
    "import torch\n",
    "\n",
    "from populations.bbh_models import get_models\n",
    "import populations.bbh_models as read_models\n",
    "from populations.utils.flow import NFlow\n",
    "from populations.Flowsclass_dev import FlowModel\n",
    "from populations import gw_obs"
   ]
  },
  {
   "cell_type": "code",
   "execution_count": 2,
   "metadata": {},
   "outputs": [],
   "source": [
    " #reading the pop synth file functions\n",
    "def get_model_keys(path):\n",
    "    alpha_val = '10'\n",
    "    all_models = []\n",
    "    models = []\n",
    "    def find_submodels(name, obj):\n",
    "        if isinstance(obj, h5py.Dataset):\n",
    "            all_models.append(name.rsplit('/', 1)[0])\n",
    "            \n",
    "    f = h5py.File(path, 'r')\n",
    "    f.visititems(find_submodels)\n",
    "    # get all unique models\n",
    "    all_models = sorted(list(set(all_models)))\n",
    "    f.close()\n",
    "\n",
    "    # use only models with given alpha value\n",
    "    for model in all_models:\n",
    "        if 'alpha' in model:\n",
    "            if 'alpha'+alpha_val in model:\n",
    "                models.append('/'+model)\n",
    "        else:\n",
    "            models.append('/' + model)\n",
    "    return(np.split(np.array(models), 5))\n",
    "\n",
    "def get_model_keys_CE(path):\n",
    "    all_models = []\n",
    "    models = []\n",
    "    def find_submodels(name ,obj):\n",
    "        if isinstance(obj, h5py.Dataset):\n",
    "            all_models.append(name.rsplit('/', 1)[0])\n",
    "            \n",
    "    f = h5py.File(path, 'r')\n",
    "    f.visititems(find_submodels)\n",
    "    # get all unique models\n",
    "    all_models = sorted(list(set(all_models)))\n",
    "    return(np.split(np.array(models), 4))\n",
    "\n",
    "def read_hdf5(path, all_alpha=False):\n",
    "    if all_alpha:\n",
    "        popsynth_outputs = {}\n",
    "        models = np.asarray(get_model_keys_CE(path))\n",
    "        for i in range(models.shape[0]):\n",
    "            for j in range(models.shape[1]):\n",
    "                popsynth_outputs[i,j]=pd.read_hdf(path, key=models[i,j])\n",
    "    else:\n",
    "        popsynth_outputs = {}\n",
    "        models = np.asarray(get_model_keys(path))\n",
    "        for i in range(models.shape[0]):\n",
    "            for j in range(models.shape[1]):\n",
    "                popsynth_outputs[i,j]=pd.read_hdf(path, key=models[i,j])\n",
    "\n",
    "    return(popsynth_outputs)"
   ]
  },
  {
   "cell_type": "code",
   "execution_count": 3,
   "metadata": {},
   "outputs": [],
   "source": [
    "params = ['mchirp','q', 'chieff', 'z']\n",
    "file_path='/Users/stormcolloms/Documents/PhD/Project_work/OneChannel_Flows/models_reduced.hdf5'\n",
    "gw_path = '/Users/stormcolloms/Documents/PhD/Project_work/AMAZE_model_selection/gw_events'\n",
    "observations, obsdata, p_theta, events = gw_obs.generate_observations(params, gw_path, \\\n",
    "                                            10000, 'posteriors', None)\n",
    "\n",
    "popsynth_outputs = read_hdf5(file_path, True)\n",
    "flow = FlowModel.from_samples('CE', popsynth_outputs, params)\n",
    "flow.load_model('/Users/stormcolloms/Documents/PhD/Project_work/AMAZE_model_selection/flow_models/', 'CE')\n"
   ]
  },
  {
   "cell_type": "code",
   "execution_count": 4,
   "metadata": {},
   "outputs": [
    {
     "name": "stdout",
     "output_type": "stream",
     "text": [
      "(46, 10000)\n",
      "[-3.97861105e+00 -6.07484616e+00 -1.02101529e+01 -7.36015786e+00\n",
      " -1.32874797e-01 -6.16581793e+00 -2.62227205e+01 -1.48091157e-02\n",
      " -8.26205653e-02  1.00617512e+00 -2.48290837e+00 -2.62279036e+00\n",
      " -5.56160987e+00 -9.04078439e+00 -6.42973298e+00 -3.25261766e+01\n",
      " -7.29458759e+00 -4.28282795e+00 -9.65654473e+00 -2.88546126e+01\n",
      " -2.68162858e+01 -2.25253293e+01 -6.20223731e+00 -1.49162990e+01\n",
      " -3.00532040e+00 -6.81211561e+00 -1.46061702e+00 -7.26339036e-01\n",
      " -1.22298123e+00 -1.73047525e+00 -8.23899096e+00 -3.88733039e+00\n",
      " -7.31338903e+00 -2.53008956e+01 -2.42271698e+01 -6.96990828e+00\n",
      " -7.04269063e+00 -1.98085152e-01 -1.65881190e+01  0.00000000e+00\n",
      "  4.55217520e-01 -4.31250048e+00 -5.12776458e+00 -1.25487474e+01\n",
      " -2.52573052e+01 -2.59583538e+01]\n"
     ]
    },
    {
     "data": {
      "text/plain": [
       "array([-3.97861105e+00, -6.07484616e+00, -1.02101529e+01, -7.36015786e+00,\n",
       "       -1.32874797e-01, -6.16581793e+00, -2.62227205e+01, -1.48091157e-02,\n",
       "       -8.26205653e-02,  1.00617512e+00, -2.48290837e+00, -2.62279036e+00,\n",
       "       -5.56160987e+00, -9.04078439e+00, -6.42973298e+00, -3.25261766e+01,\n",
       "       -7.29458759e+00, -4.28282795e+00, -9.65654473e+00, -2.88546126e+01,\n",
       "       -2.68162858e+01, -2.25253293e+01, -6.20223731e+00, -1.49162990e+01,\n",
       "       -3.00532040e+00, -6.81211561e+00, -1.46061702e+00, -7.26339036e-01,\n",
       "       -1.22298123e+00, -1.73047525e+00, -8.23899096e+00, -3.88733039e+00,\n",
       "       -7.31338903e+00, -2.53008956e+01, -2.42271698e+01, -6.96990828e+00,\n",
       "       -7.04269063e+00, -1.98085152e-01, -1.65881190e+01,  0.00000000e+00,\n",
       "        4.55217520e-01, -4.31250048e+00, -5.12776458e+00, -1.25487474e+01,\n",
       "       -2.52573052e+01, -2.59583538e+01])"
      ]
     },
     "execution_count": 4,
     "metadata": {},
     "output_type": "execute_result"
    }
   ],
   "source": [
    "llks = flow(obsdata,[3,1])\n",
    "llks"
   ]
  },
  {
   "cell_type": "code",
   "execution_count": 5,
   "metadata": {},
   "outputs": [
    {
     "data": {
      "text/plain": [
       "array([1.87116108e-02, 2.30000000e-03, 3.67948417e-05, 6.36098040e-04,\n",
       "       8.75574710e-01, 2.10000000e-03, 4.08900060e-12, 9.85300000e-01,\n",
       "       9.20700427e-01, 2.73511949e+00, 8.35000234e-02, 7.26000000e-02,\n",
       "       3.84258537e-03, 1.18477867e-04, 1.61288145e-03, 7.48274598e-15,\n",
       "       6.79204981e-04, 1.38035711e-02, 6.40052958e-05, 2.94171752e-13,\n",
       "       2.25857789e-12, 1.64958154e-10, 2.02489525e-03, 3.32608741e-07,\n",
       "       4.95228846e-02, 1.10036250e-03, 2.32093025e-01, 4.83676475e-01,\n",
       "       2.94351330e-01, 1.77200176e-01, 2.64150654e-04, 2.05000000e-02,\n",
       "       6.66554246e-04, 1.02792313e-11, 3.00797251e-11, 9.39739091e-04,\n",
       "       8.73772395e-04, 8.20300000e-01, 6.24987696e-08, 1.00000000e+00,\n",
       "       1.57651627e+00, 1.34000013e-02, 5.92980129e-03, 3.54934510e-06,\n",
       "       1.07372165e-11, 5.32635585e-12])"
      ]
     },
     "execution_count": 5,
     "metadata": {},
     "output_type": "execute_result"
    }
   ],
   "source": [
    "np.exp(llks)"
   ]
  },
  {
   "cell_type": "code",
   "execution_count": null,
   "metadata": {},
   "outputs": [],
   "source": []
  }
 ],
 "metadata": {
  "kernelspec": {
   "display_name": "Python 3.9.15 ('amaze')",
   "language": "python",
   "name": "python3"
  },
  "language_info": {
   "codemirror_mode": {
    "name": "ipython",
    "version": 3
   },
   "file_extension": ".py",
   "mimetype": "text/x-python",
   "name": "python",
   "nbconvert_exporter": "python",
   "pygments_lexer": "ipython3",
   "version": "3.9.15"
  },
  "orig_nbformat": 4,
  "vscode": {
   "interpreter": {
    "hash": "40f4eedd3c2b0a4cf443053300595e4c410b663f293e84798d1742802fb2c7c8"
   }
  }
 },
 "nbformat": 4,
 "nbformat_minor": 2
}
