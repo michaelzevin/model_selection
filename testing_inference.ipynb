{
 "cells": [
  {
   "cell_type": "code",
   "execution_count": 1,
   "metadata": {},
   "outputs": [
    {
     "name": "stderr",
     "output_type": "stream",
     "text": [
      "PyCBC.libutils: pkg-config call failed, setting NO_PKGCONFIG=1\n"
     ]
    }
   ],
   "source": [
    "from populations.bbh_models import get_models\n"
   ]
  },
  {
   "cell_type": "code",
   "execution_count": null,
   "metadata": {},
   "outputs": [],
   "source": [
    "get_models('../OneChannel_Flows/models_reduced.hdf5',['CE'],['mchirp'])"
   ]
  },
  {
   "cell_type": "code",
   "execution_count": 2,
   "metadata": {},
   "outputs": [],
   "source": [
    "import pandas as pd\n",
    "import numpy as np\n",
    "import h5py\n",
    "\n",
    "from scipy.special import logit\n",
    "from scipy.special import expit\n",
    "\n",
    "def logistic(data,rescaling=False, wholedataset=True, max =1, rescale_max=1):\n",
    "    if rescaling:\n",
    "        if wholedataset:\n",
    "            rescale_max = np.max(data) + 0.01\n",
    "        else:\n",
    "            rescale_max = rescale_max\n",
    "        data /= rescale_max\n",
    "    else:\n",
    "        rescale_max = None\n",
    "    data = logit(data)\n",
    "    if wholedataset:\n",
    "        max = np.max(data)\n",
    "    else:\n",
    "        max = max\n",
    "    data /= max\n",
    "    return([data, max, rescale_max])\n",
    "\n",
    "def expistic(data, max, rescale_max=None):\n",
    "    data*=max\n",
    "    data = expit(data)\n",
    "    if rescale_max != None:\n",
    "        data *=rescale_max\n",
    "    return(data)\n",
    "\n",
    "def get_model_keys(path):\n",
    "    alpha_val = '10'\n",
    "    all_models = []\n",
    "    models = []\n",
    "    def find_submodels(name, obj):\n",
    "        if isinstance(obj, h5py.Dataset):\n",
    "            all_models.append(name.rsplit('/', 1)[0])\n",
    "            \n",
    "    f = h5py.File(path, 'r')\n",
    "    f.visititems(find_submodels)\n",
    "    # get all unique models\n",
    "    all_models = sorted(list(set(all_models)))\n",
    "    f.close()\n",
    "\n",
    "    # use only models with given alpha value\n",
    "    for model in all_models:\n",
    "        if 'alpha' in model:\n",
    "            if 'alpha'+alpha_val in model:\n",
    "                models.append('/'+model)\n",
    "        else:\n",
    "            models.append('/' + model)\n",
    "    return(np.split(np.array(models), 5))\n",
    "\n",
    "def get_model_keys_CE(path):\n",
    "    all_models = []\n",
    "    models = []\n",
    "    def find_submodels(name, obj):\n",
    "        if isinstance(obj, h5py.Dataset):\n",
    "            all_models.append(name.rsplit('/', 1)[0])\n",
    "            \n",
    "    f = h5py.File(path, 'r')\n",
    "    f.visititems(find_submodels)\n",
    "    # get all unique models\n",
    "    all_models = sorted(list(set(all_models)))\n",
    "    f.close()\n",
    "\n",
    "    # use only models with given alpha value\n",
    "    for model in all_models:\n",
    "        if 'CE' in model:\n",
    "            models.append('/'+model)\n",
    "    return(np.split(np.array(models), 4))\n",
    "\n",
    "def read_hdf5(path, all_alpha=False):\n",
    "    if all_alpha:\n",
    "        popsynth_outputs = {}\n",
    "        models = np.asarray(get_model_keys_CE(path))\n",
    "        for i in range(models.shape[0]):\n",
    "            for j in range(models.shape[1]):\n",
    "                popsynth_outputs[i,j]=pd.read_hdf(path, key=models[i,j])\n",
    "    else:\n",
    "        popsynth_outputs = {}\n",
    "        models = np.asarray(get_model_keys(path))\n",
    "        for i in range(models.shape[0]):\n",
    "            for j in range(models.shape[1]):\n",
    "                popsynth_outputs[i,j]=pd.read_hdf(path, key=models[i,j])\n",
    "\n",
    "    return(popsynth_outputs)\n",
    "\n",
    "def plot_histogram(model_id, param, axes, models_path):\n",
    "    popsynth_outputs = read_hdf5(models_path)\n",
    "    axes.hist(popsynth_outputs[model_id][param])"
   ]
  },
  {
   "cell_type": "code",
   "execution_count": 1,
   "metadata": {},
   "outputs": [
    {
     "ename": "NameError",
     "evalue": "name 'read_hdf5' is not defined",
     "output_type": "error",
     "traceback": [
      "\u001b[0;31m---------------------------------------------------------------------------\u001b[0m",
      "\u001b[0;31mNameError\u001b[0m                                 Traceback (most recent call last)",
      "Cell \u001b[0;32mIn [1], line 2\u001b[0m\n\u001b[1;32m      1\u001b[0m models_path \u001b[39m=\u001b[39m\u001b[39m'\u001b[39m\u001b[39m/Users/stormcolloms/Documents/PhD/Project_work/OneChannel_Flows/models_reduced.hdf5\u001b[39m\u001b[39m'\u001b[39m\n\u001b[0;32m----> 2\u001b[0m samples \u001b[39m=\u001b[39m read_hdf5(models_path, all_alpha\u001b[39m=\u001b[39m\u001b[39mFalse\u001b[39;00m)\n\u001b[1;32m      4\u001b[0m cond_inputs \u001b[39m=\u001b[39m \u001b[39m1\u001b[39m\n\u001b[1;32m      6\u001b[0m channel_label \u001b[39m=\u001b[39m \u001b[39m'\u001b[39m\u001b[39mSMT\u001b[39m\u001b[39m'\u001b[39m\n",
      "\u001b[0;31mNameError\u001b[0m: name 'read_hdf5' is not defined"
     ]
    }
   ],
   "source": [
    "models_path ='/Users/stormcolloms/Documents/PhD/Project_work/OneChannel_Flows/models_reduced.hdf5'\n",
    "samples = read_hdf5(models_path, all_alpha=False)\n",
    "\n",
    "cond_inputs = 1\n",
    "\n",
    "channel_label = 'SMT'\n",
    "params = ['mchirp','q', 'chieff', 'z']\n",
    "no_params = 4\n",
    "\n",
    "chi_b = [0.,0.1,0.2,0.5]\n",
    "alpha = [0.2,0.5,1.,2.,5.]\n"
   ]
  },
  {
   "cell_type": "code",
   "execution_count": 1,
   "metadata": {},
   "outputs": [
    {
     "name": "stderr",
     "output_type": "stream",
     "text": [
      "PyCBC.libutils: pkg-config call failed, setting NO_PKGCONFIG=1\n"
     ]
    },
    {
     "name": "stdout",
     "output_type": "stream",
     "text": [
      "glasflow is using its own internal version of nflows\n"
     ]
    }
   ],
   "source": [
    "import populations.bbh_models as read_models\n",
    "from populations.utils.flow import NFlow"
   ]
  },
  {
   "cell_type": "code",
   "execution_count": 2,
   "metadata": {},
   "outputs": [],
   "source": [
    "channels = ['CE']\n",
    "file_path='/Users/stormcolloms/Documents/PhD/Project_work/OneChannel_Flows/models_reduced.hdf5'\n",
    "params =['mchirp', 'q','chieff', 'z']\n",
    "\n",
    "flow = read_models.get_models(file_path, channels, params)"
   ]
  },
  {
   "cell_type": "code",
   "execution_count": 3,
   "metadata": {},
   "outputs": [
    {
     "name": "stdout",
     "output_type": "stream",
     "text": [
      "<populations.Flowsclass_dev.FlowModel object at 0x7fc40174ba90>\n"
     ]
    }
   ],
   "source": [
    "flow_model= flow['GC']\n",
    "print(flow)"
   ]
  },
  {
   "cell_type": "code",
   "execution_count": 5,
   "metadata": {},
   "outputs": [],
   "source": [
    "flow.load_model('test_training.pt')"
   ]
  }
 ],
 "metadata": {
  "kernelspec": {
   "display_name": "Python 3.9.15 ('amaze')",
   "language": "python",
   "name": "python3"
  },
  "language_info": {
   "codemirror_mode": {
    "name": "ipython",
    "version": 3
   },
   "file_extension": ".py",
   "mimetype": "text/x-python",
   "name": "python",
   "nbconvert_exporter": "python",
   "pygments_lexer": "ipython3",
   "version": "3.9.15"
  },
  "orig_nbformat": 4,
  "vscode": {
   "interpreter": {
    "hash": "40f4eedd3c2b0a4cf443053300595e4c410b663f293e84798d1742802fb2c7c8"
   }
  }
 },
 "nbformat": 4,
 "nbformat_minor": 2
}
