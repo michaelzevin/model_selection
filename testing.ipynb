{
 "cells": [
  {
   "cell_type": "code",
   "execution_count": 1,
   "metadata": {},
   "outputs": [
    {
     "name": "stderr",
     "output_type": "stream",
     "text": [
      "PyCBC.libutils: pkg-config call failed, setting NO_PKGCONFIG=1\n"
     ]
    }
   ],
   "source": [
    "from populations.bbh_models import get_models\n"
   ]
  },
  {
   "cell_type": "code",
   "execution_count": 2,
   "metadata": {},
   "outputs": [
    {
     "name": "stderr",
     "output_type": "stream",
     "text": [
      "  5%|▌         | 1/20 [00:00<00:04,  4.25it/s]"
     ]
    },
    {
     "name": "stdout",
     "output_type": "stream",
     "text": [
      "label\n",
      "CE/chi00/alpha02\n",
      "label\n",
      "CE/chi00/alpha05\n"
     ]
    },
    {
     "name": "stderr",
     "output_type": "stream",
     "text": [
      " 15%|█▌        | 3/20 [00:00<00:03,  4.90it/s]"
     ]
    },
    {
     "name": "stdout",
     "output_type": "stream",
     "text": [
      "label\n",
      "CE/chi00/alpha10\n",
      "label\n",
      "CE/chi00/alpha20\n"
     ]
    },
    {
     "name": "stderr",
     "output_type": "stream",
     "text": [
      " 25%|██▌       | 5/20 [00:01<00:03,  4.98it/s]"
     ]
    },
    {
     "name": "stdout",
     "output_type": "stream",
     "text": [
      "label\n",
      "CE/chi00/alpha50\n",
      "label\n",
      "CE/chi01/alpha02\n"
     ]
    },
    {
     "name": "stderr",
     "output_type": "stream",
     "text": [
      " 35%|███▌      | 7/20 [00:01<00:02,  5.00it/s]"
     ]
    },
    {
     "name": "stdout",
     "output_type": "stream",
     "text": [
      "label\n",
      "CE/chi01/alpha05\n",
      "label\n",
      "CE/chi01/alpha10\n"
     ]
    },
    {
     "name": "stderr",
     "output_type": "stream",
     "text": [
      " 45%|████▌     | 9/20 [00:01<00:02,  5.10it/s]"
     ]
    },
    {
     "name": "stdout",
     "output_type": "stream",
     "text": [
      "label\n",
      "CE/chi01/alpha20\n",
      "label\n",
      "CE/chi01/alpha50\n"
     ]
    },
    {
     "name": "stderr",
     "output_type": "stream",
     "text": [
      " 55%|█████▌    | 11/20 [00:02<00:01,  4.68it/s]"
     ]
    },
    {
     "name": "stdout",
     "output_type": "stream",
     "text": [
      "label\n",
      "CE/chi02/alpha02\n"
     ]
    },
    {
     "name": "stderr",
     "output_type": "stream",
     "text": [
      " 60%|██████    | 12/20 [00:02<00:01,  4.35it/s]"
     ]
    },
    {
     "name": "stdout",
     "output_type": "stream",
     "text": [
      "label\n",
      "CE/chi02/alpha05\n"
     ]
    },
    {
     "name": "stderr",
     "output_type": "stream",
     "text": [
      " 65%|██████▌   | 13/20 [00:02<00:01,  4.38it/s]"
     ]
    },
    {
     "name": "stdout",
     "output_type": "stream",
     "text": [
      "label\n",
      "CE/chi02/alpha10\n"
     ]
    },
    {
     "name": "stderr",
     "output_type": "stream",
     "text": [
      " 70%|███████   | 14/20 [00:02<00:01,  4.32it/s]"
     ]
    },
    {
     "name": "stdout",
     "output_type": "stream",
     "text": [
      "label\n",
      "CE/chi02/alpha20\n"
     ]
    },
    {
     "name": "stderr",
     "output_type": "stream",
     "text": [
      " 75%|███████▌  | 15/20 [00:03<00:01,  4.28it/s]"
     ]
    },
    {
     "name": "stdout",
     "output_type": "stream",
     "text": [
      "label\n",
      "CE/chi02/alpha50\n"
     ]
    },
    {
     "name": "stderr",
     "output_type": "stream",
     "text": [
      " 80%|████████  | 16/20 [00:03<00:00,  4.38it/s]"
     ]
    },
    {
     "name": "stdout",
     "output_type": "stream",
     "text": [
      "label\n",
      "CE/chi05/alpha02\n"
     ]
    },
    {
     "name": "stderr",
     "output_type": "stream",
     "text": [
      " 85%|████████▌ | 17/20 [00:03<00:00,  4.47it/s]"
     ]
    },
    {
     "name": "stdout",
     "output_type": "stream",
     "text": [
      "label\n",
      "CE/chi05/alpha05\n"
     ]
    },
    {
     "name": "stderr",
     "output_type": "stream",
     "text": [
      " 90%|█████████ | 18/20 [00:03<00:00,  4.18it/s]"
     ]
    },
    {
     "name": "stdout",
     "output_type": "stream",
     "text": [
      "label\n",
      "CE/chi05/alpha10\n"
     ]
    },
    {
     "name": "stderr",
     "output_type": "stream",
     "text": [
      " 95%|█████████▌| 19/20 [00:04<00:00,  4.11it/s]"
     ]
    },
    {
     "name": "stdout",
     "output_type": "stream",
     "text": [
      "label\n",
      "CE/chi05/alpha20\n"
     ]
    },
    {
     "name": "stderr",
     "output_type": "stream",
     "text": [
      "100%|██████████| 20/20 [00:04<00:00,  4.53it/s]"
     ]
    },
    {
     "name": "stdout",
     "output_type": "stream",
     "text": [
      "label\n",
      "CE/chi05/alpha50\n"
     ]
    },
    {
     "name": "stderr",
     "output_type": "stream",
     "text": [
      "\n"
     ]
    },
    {
     "data": {
      "text/plain": [
       "(['CE/chi00/alpha02',\n",
       "  'CE/chi00/alpha05',\n",
       "  'CE/chi00/alpha10',\n",
       "  'CE/chi00/alpha20',\n",
       "  'CE/chi00/alpha50',\n",
       "  'CE/chi01/alpha02',\n",
       "  'CE/chi01/alpha05',\n",
       "  'CE/chi01/alpha10',\n",
       "  'CE/chi01/alpha20',\n",
       "  'CE/chi01/alpha50',\n",
       "  'CE/chi02/alpha02',\n",
       "  'CE/chi02/alpha05',\n",
       "  'CE/chi02/alpha10',\n",
       "  'CE/chi02/alpha20',\n",
       "  'CE/chi02/alpha50',\n",
       "  'CE/chi05/alpha02',\n",
       "  'CE/chi05/alpha05',\n",
       "  'CE/chi05/alpha10',\n",
       "  'CE/chi05/alpha20',\n",
       "  'CE/chi05/alpha50'],\n",
       " {'CE': {'chi00': {'alpha02': <populations.KDEModel at 0x7f8f89e6ef10>,\n",
       "    'alpha05': <populations.KDEModel at 0x7f8f68d40b20>,\n",
       "    'alpha10': <populations.KDEModel at 0x7f8f79344520>,\n",
       "    'alpha20': <populations.KDEModel at 0x7f8f79373f40>,\n",
       "    'alpha50': <populations.KDEModel at 0x7f8f79378be0>},\n",
       "   'chi01': {'alpha02': <populations.KDEModel at 0x7f8f79378b20>,\n",
       "    'alpha05': <populations.KDEModel at 0x7f8f79373970>,\n",
       "    'alpha10': <populations.KDEModel at 0x7f8f79344130>,\n",
       "    'alpha20': <populations.KDEModel at 0x7f8f7937dc40>,\n",
       "    'alpha50': <populations.KDEModel at 0x7f8f89fe4dc0>},\n",
       "   'chi02': {'alpha02': <populations.KDEModel at 0x7f8f89feaac0>,\n",
       "    'alpha05': <populations.KDEModel at 0x7f8f89feaa00>,\n",
       "    'alpha10': <populations.KDEModel at 0x7f8f89fe4250>,\n",
       "    'alpha20': <populations.KDEModel at 0x7f8f7937d6a0>,\n",
       "    'alpha50': <populations.KDEModel at 0x7f8f793732e0>},\n",
       "   'chi05': {'alpha02': <populations.KDEModel at 0x7f8f89fef940>,\n",
       "    'alpha05': <populations.KDEModel at 0x7f8f89ff8ac0>,\n",
       "    'alpha10': <populations.KDEModel at 0x7f8f89ff8310>,\n",
       "    'alpha20': <populations.KDEModel at 0x7f8f89fefbb0>,\n",
       "    'alpha50': <populations.KDEModel at 0x7f8f79344d00>}}})"
      ]
     },
     "execution_count": 2,
     "metadata": {},
     "output_type": "execute_result"
    }
   ],
   "source": [
    "get_models('../OneChannel_Flows/models_reduced.hdf5',['CE'],['mchirp'])"
   ]
  }
 ],
 "metadata": {
  "kernelspec": {
   "display_name": "Python 3.9.15 ('amaze')",
   "language": "python",
   "name": "python3"
  },
  "language_info": {
   "codemirror_mode": {
    "name": "ipython",
    "version": 3
   },
   "file_extension": ".py",
   "mimetype": "text/x-python",
   "name": "python",
   "nbconvert_exporter": "python",
   "pygments_lexer": "ipython3",
   "version": "3.9.15"
  },
  "orig_nbformat": 4,
  "vscode": {
   "interpreter": {
    "hash": "40f4eedd3c2b0a4cf443053300595e4c410b663f293e84798d1742802fb2c7c8"
   }
  }
 },
 "nbformat": 4,
 "nbformat_minor": 2
}
