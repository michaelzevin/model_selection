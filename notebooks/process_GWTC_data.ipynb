{
 "cells": [
  {
   "cell_type": "markdown",
   "metadata": {},
   "source": [
    "# Process GWTC Data"
   ]
  },
  {
   "cell_type": "markdown",
   "metadata": {},
   "source": [
    "This notebook processes the public data releases from GWTC-1 and GWTC-2 and saves reduced hdf5 posterior sample files into a specified directory. \n",
    "\n",
    "File format for h5 files: h5py.File('event_name', key='waveform_model/posterior_samples'). Can also use the key 'waveform_model/priors' to get the priors. "
   ]
  },
  {
   "cell_type": "code",
   "execution_count": 1,
   "metadata": {},
   "outputs": [],
   "source": [
    "import h5py\n",
    "import numpy as np\n",
    "import pandas as pd\n",
    "from scipy.interpolate import interp1d\n",
    "import os\n",
    "from tqdm import tqdm\n",
    "from IPython.core.debugger import set_trace\n",
    "\n",
    "from astropy import cosmology\n",
    "from astropy.cosmology import z_at_value\n",
    "import astropy.units as u  \n",
    "cosmo = cosmology.Planck15\n",
    "\n",
    "# Put in your path to the samples. File names should be GWXXXXXX_XX.h5. \n",
    "\n",
    "GWTC1_path = '/Users/michaelzevin/research/ligo/catalogs/PE/GWTC-1_sample_release/'\n",
    "GWTC2_path = '/Users/michaelzevin/research/ligo/catalogs/PE/GWTC-2_sample_release/'\n",
    "\n",
    "output_directory = '/Users/michaelzevin/research/model_selection/model_selection/data/gw_events/'"
   ]
  },
  {
   "cell_type": "code",
   "execution_count": 2,
   "metadata": {},
   "outputs": [],
   "source": [
    "# conversion function\n",
    "\n",
    "def m1m2_to_mchirp(m1,m2):\n",
    "    return (m1*m2)**(3./5) / (m1+m2)**(1./5)\n",
    "\n",
    "def m1m2_to_mtot(m1,m2):\n",
    "    return m1+m2\n",
    "\n",
    "def m1m2_to_q(m1,m2):\n",
    "    # q is defined as m2/m1 with m2<=m1\n",
    "    q = m2/m1\n",
    "    pos_idxs = np.argwhere(q > 1)\n",
    "    q[pos_idxs] = m1[pos_idxs]/m2[pos_idxs]\n",
    "    return q\n",
    "\n",
    "def m1m2_to_eta(m1,m2):\n",
    "    eta = (m1*m2) / (m1+m2)**2\n",
    "    return eta\n",
    "\n",
    "def components_to_chieff(m1,m2,a1,a2,costilt1,costilt2):\n",
    "    return (m1*a1*costilt1 + m2*a2*costilt2) / (m1+m2)\n",
    "\n",
    "# create interpolant for determining redshifts from luminosity distances\n",
    "dL_max = 10000 # Mpc\n",
    "dL_vals = np.linspace(0.0001, dL_max, 5000)\n",
    "redshift_vals = np.asarray([z_at_value(cosmo.luminosity_distance, dL*u.Mpc) for dL in dL_vals])\n",
    "z_from_dL = interp1d(dL_vals, redshift_vals)\n",
    "\n",
    "def dL_to_redshift(dL):\n",
    "    # Input distance in Mpc\n",
    "    # Use interpolant above to speed this up\n",
    "    return z_from_dL(dL)\n"
   ]
  },
  {
   "cell_type": "markdown",
   "metadata": {},
   "source": [
    "params we are currently saving: ['m1', 'm2', 'mchirp', 'mtot', 'q', 'eta', 'chieff', 'dL', 'z']"
   ]
  },
  {
   "cell_type": "markdown",
   "metadata": {},
   "source": [
    "### GWTC-1 Events"
   ]
  },
  {
   "cell_type": "code",
   "execution_count": 3,
   "metadata": {},
   "outputs": [
    {
     "name": "stderr",
     "output_type": "stream",
     "text": [
      "100%|██████████| 11/11 [00:01<00:00,  8.18it/s]\n"
     ]
    }
   ],
   "source": [
    "for gw_file in tqdm(os.listdir(GWTC1_path)):\n",
    "    gw_name = gw_file.split('.')[0]\n",
    "    \n",
    "    # remove BNS event\n",
    "    if gw_name == 'GW170817':\n",
    "        continue\n",
    "        \n",
    "    for oldkey, newkey in zip(['IMRPhenomPv2_posterior', 'Overall_posterior', 'SEOBNRv3_posterior', 'prior'], ['IMRPhenomPv2', 'combined', 'SEOBNRv3', 'prior']):\n",
    "        df = pd.read_hdf(os.path.join(GWTC1_path,gw_file), key=oldkey)\n",
    "        \n",
    "        # luminosity distance and redshift\n",
    "        dL = np.asarray(df['luminosity_distance_Mpc'])\n",
    "        z = np.asarray(dL_to_redshift(df['luminosity_distance_Mpc']))\n",
    "        \n",
    "        # chirp mass and total mass (source frame)\n",
    "        m1_src = np.asarray(df['m1_detector_frame_Msun']/(1+z))\n",
    "        m2_src = np.asarray(df['m2_detector_frame_Msun']/(1+z))\n",
    "        mchirp = m1m2_to_mchirp(m1_src, m2_src)\n",
    "        mtot = m1m2_to_mtot(m1_src, m2_src)\n",
    "        \n",
    "        # q and eta\n",
    "        q = m1m2_to_q(m1_src, m2_src)\n",
    "        eta = m1m2_to_eta(m1_src, m2_src)\n",
    "        \n",
    "        # chieff\n",
    "        chieff = components_to_chieff(m1_src, m2_src, np.asarray(df['spin1']), np.asarray(df['spin2']), \\\n",
    "                                      np.asarray(df['costilt1']), np.asarray(df['costilt2']))\n",
    "        \n",
    "        # save everything in new dataframe\n",
    "        new_df = pd.DataFrame({'m1':m1_src, 'm2':m2_src, 'mchirp':mchirp, 'mtot':mtot, 'q':q, 'eta':eta, 'chieff':chieff, 'dL':dL, 'z':z})\n",
    "        new_df.to_hdf(os.path.join(output_directory,gw_name+'.hdf5'), key=newkey)\n",
    "        "
   ]
  },
  {
   "cell_type": "markdown",
   "metadata": {},
   "source": [
    "### GWTC-2 Events"
   ]
  },
  {
   "cell_type": "code",
   "execution_count": 13,
   "metadata": {},
   "outputs": [
    {
     "name": "stderr",
     "output_type": "stream",
     "text": [
      "  6%|▌         | 11/194 [00:04<01:20,  2.28it/s]"
     ]
    },
    {
     "name": "stdout",
     "output_type": "stream",
     "text": [
      "GW190503 does not have the following approximant: SEOBNRv4PHM\n"
     ]
    },
    {
     "name": "stderr",
     "output_type": "stream",
     "text": [
      "  9%|▉         | 18/194 [00:14<04:45,  1.62s/it]"
     ]
    },
    {
     "name": "stdout",
     "output_type": "stream",
     "text": [
      "GW190731 does not have the following approximant: SEOBNRv4PHM\n"
     ]
    },
    {
     "name": "stderr",
     "output_type": "stream",
     "text": [
      " 11%|█         | 21/194 [00:18<04:00,  1.39s/it]"
     ]
    },
    {
     "name": "stdout",
     "output_type": "stream",
     "text": [
      "GW190527 does not have the following approximant: SEOBNRv4PHM\n"
     ]
    },
    {
     "name": "stderr",
     "output_type": "stream",
     "text": [
      " 23%|██▎       | 44/194 [00:22<01:36,  1.55it/s]"
     ]
    },
    {
     "name": "stdout",
     "output_type": "stream",
     "text": [
      "GW190803 does not have the following approximant: SEOBNRv4PHM\n",
      "GW190909 does not have the following approximant: IMRPhenomD\n"
     ]
    },
    {
     "name": "stderr",
     "output_type": "stream",
     "text": [
      " 36%|███▌      | 69/194 [00:30<02:05,  1.00s/it]"
     ]
    },
    {
     "name": "stdout",
     "output_type": "stream",
     "text": [
      "GW190413_13 does not have the following approximant: SEOBNRv4PHM\n"
     ]
    },
    {
     "name": "stderr",
     "output_type": "stream",
     "text": [
      " 80%|████████  | 156/194 [00:45<00:26,  1.43it/s]"
     ]
    },
    {
     "name": "stdout",
     "output_type": "stream",
     "text": [
      "GW190727 does not have the following approximant: SEOBNRv4PHM\n"
     ]
    },
    {
     "name": "stderr",
     "output_type": "stream",
     "text": [
      " 82%|████████▏ | 159/194 [00:46<00:21,  1.62it/s]"
     ]
    },
    {
     "name": "stdout",
     "output_type": "stream",
     "text": [
      "GW190521 does not have the following approximant: IMRPhenomD\n",
      "GW190521 does not have the following approximant: IMRPhenomPv2\n",
      "GW190521 does not have the following approximant: SEOBNRv4P\n"
     ]
    },
    {
     "name": "stderr",
     "output_type": "stream",
     "text": [
      " 92%|█████████▏| 179/194 [00:50<00:05,  2.52it/s]"
     ]
    },
    {
     "name": "stdout",
     "output_type": "stream",
     "text": [
      "GW190514 does not have the following approximant: SEOBNRv4PHM\n"
     ]
    },
    {
     "name": "stderr",
     "output_type": "stream",
     "text": [
      "100%|██████████| 194/194 [00:56<00:00,  3.45it/s]\n"
     ]
    }
   ],
   "source": [
    "for gw_file in tqdm(os.listdir(GWTC2_path)):\n",
    "    \n",
    "    # remove marginal events\n",
    "    if gw_file[:2] != 'GW':\n",
    "        continue\n",
    "        \n",
    "    # remove the comoving distance posteriors and prior files\n",
    "    if 'comoving' in gw_file or 'prior' in gw_file:\n",
    "        continue\n",
    "        \n",
    "    gw_name = gw_file.split('.')[0]\n",
    "        \n",
    "    # remove BNS/NSBH events\n",
    "    if any([x in gw_name for x in ['GW190425','GW190426','GW190814']]):\n",
    "        continue\n",
    "        \n",
    "        \n",
    "    for oldkey, newkey in zip(['C01:IMRPhenomD', 'C01:IMRPhenomPv2', 'C01:SEOBNRv4P', 'C01:SEOBNRv4PHM', 'PublicationSamples'], \\\n",
    "                              ['IMRPhenomD', 'IMRPhenomPv2', 'SEOBNRv4P', 'SEOBNRv4PHM', 'combined']):\n",
    "        try:\n",
    "            df = pd.read_hdf(os.path.join(GWTC2_path, gw_file), key=oldkey+'/posterior_samples')\n",
    "\n",
    "            # luminosity distance and redshift\n",
    "            dL = np.asarray(df['luminosity_distance'])\n",
    "            z = np.asarray(df['redshift'])\n",
    "\n",
    "            # chirp mass and total mass (source frame)\n",
    "            m1_src = np.asarray(df['mass_1_source'])\n",
    "            m2_src = np.asarray(df['mass_2_source'])\n",
    "            mchirp = np.asarray(df['chirp_mass_source'])\n",
    "            mtot = np.asarray(df['total_mass_source'])\n",
    "\n",
    "            # q and eta\n",
    "            q = np.asarray(df['mass_ratio'])\n",
    "            eta = np.asarray(df['symmetric_mass_ratio'])\n",
    "\n",
    "            # chieff\n",
    "            chieff = components_to_chieff(m1_src, m2_src, np.asarray(df['a_1']), np.asarray(df['a_2']), \\\n",
    "                                          np.asarray(df['cos_tilt_1']), np.asarray(df['cos_tilt_2']))\n",
    "\n",
    "            # save everything in new dataframe\n",
    "            new_df = pd.DataFrame({'m1':m1_src, 'm2':m2_src, 'mchirp':mchirp, 'mtot':mtot, 'q':q, 'eta':eta, 'chieff':chieff, 'dL':dL, 'z':z})\n",
    "            new_df.to_hdf(os.path.join(output_directory,gw_name+'.hdf5'), key=newkey)\n",
    "            \n",
    "        except:\n",
    "            # exception since some of the events don't have certain approximants\n",
    "            print('{} does not have the following approximant: {}'.format(gw_name, newkey))\n",
    "        \n",
    "        \n",
    "    "
   ]
  },
  {
   "cell_type": "code",
   "execution_count": null,
   "metadata": {},
   "outputs": [],
   "source": []
  }
 ],
 "metadata": {
  "kernelspec": {
   "display_name": "modelselect-py37",
   "language": "python",
   "name": "modelselect-py37"
  },
  "language_info": {
   "codemirror_mode": {
    "name": "ipython",
    "version": 3
   },
   "file_extension": ".py",
   "mimetype": "text/x-python",
   "name": "python",
   "nbconvert_exporter": "python",
   "pygments_lexer": "ipython3",
   "version": "3.7.4"
  }
 },
 "nbformat": 4,
 "nbformat_minor": 4
}
