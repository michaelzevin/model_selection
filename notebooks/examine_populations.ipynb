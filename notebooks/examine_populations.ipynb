{
 "cells": [
  {
   "cell_type": "code",
   "execution_count": 1,
   "metadata": {},
   "outputs": [],
   "source": [
    "import numpy as np\n",
    "import matplotlib.pyplot as plt\n",
    "import seaborn as sns\n",
    "sns.set_style(\"whitegrid\")\n",
    "import pandas as pd\n",
    "import scipy as sp\n",
    "import os\n",
    "import pickle\n",
    "from decimal import Decimal\n",
    "import h5py\n",
    "import itertools\n",
    "from collections import OrderedDict\n",
    "import imp\n",
    "from tqdm import tqdm\n",
    "\n",
    "from scipy.stats import norm\n",
    "\n",
    "import astropy.constants as C\n",
    "import astropy.units as u\n",
    "import astropy as ap\n",
    "\n",
    "import peters\n",
    "import bounded_Nd_kde\n",
    "from IPython.core.debugger import set_trace\n",
    "from importlib import reload\n",
    "\n",
    "from matplotlib import gridspec\n",
    "import matplotlib\n",
    "from matplotlib import ticker\n",
    "%matplotlib inline\n",
    "import seaborn as sns\n",
    "\n",
    "from mpl_toolkits.axes_grid1.inset_locator import zoomed_inset_axes, inset_axes, mark_inset\n",
    "from matplotlib.ticker import MultipleLocator, AutoMinorLocator, LogLocator\n",
    "\n",
    "cp = sns.color_palette(\"colorblind\", 6)\n",
    "\n",
    "plt.style.use(\"/Users/michaelzevin/.MATPLOTLIB_RCPARAMS.sty\")"
   ]
  },
  {
   "cell_type": "code",
   "execution_count": 2,
   "metadata": {},
   "outputs": [],
   "source": [
    "alpha_val = '10'\n",
    "models_path = '/Users/michaelzevin/research/model_selection/model_selection/data/spin_models/models_reduced.hdf5'\n",
    "sensitivity = 'midhighlatelow_network'\n",
    "param_dict = {'mchirp':r'$\\mathcal{M}_c\\ [\\mathrm{M}_\\odot]$', 'q':r'$q$', 'chieff':r'$\\chi_{\\rm eff}$', 'z':r'$z$'}\n",
    "param_lims = {'mchirp':(0,100), 'q':(0,1), 'chieff':(-1,1), 'z':(0,10)}\n",
    "smdl_dict = {'chi00':r'$\\chi_b = 0.0$', 'chi01':r'$\\chi_b = 0.1$', 'chi02':r'$\\chi_b = 0.2$', 'chi05':r'$\\chi_b = 0.5$'}"
   ]
  },
  {
   "cell_type": "code",
   "execution_count": 3,
   "metadata": {},
   "outputs": [],
   "source": [
    "all_models = []\n",
    "models = []\n",
    "def find_submodels(name, obj):\n",
    "    if isinstance(obj, h5py.Dataset):\n",
    "        all_models.append(name.rsplit('/', 1)[0])\n",
    "        \n",
    "f = h5py.File(models_path, 'r')\n",
    "f.visititems(find_submodels)\n",
    "# get all unique models\n",
    "all_models = sorted(list(set(all_models)))\n",
    "f.close()\n",
    "\n",
    "# use only models with given alpha value\n",
    "for model in all_models:\n",
    "    if 'alpha' in model:\n",
    "        if 'alpha'+alpha_val in model:\n",
    "            models.append(model)\n",
    "    else:\n",
    "        models.append(model)\n",
    "        "
   ]
  },
  {
   "cell_type": "code",
   "execution_count": 4,
   "metadata": {},
   "outputs": [],
   "source": [
    "channels = sorted(set([x.split('/')[0] for x in models]))\n",
    "smdls = sorted(set([x.split('/')[1] for x in models]))"
   ]
  },
  {
   "cell_type": "markdown",
   "metadata": {},
   "source": [
    "### Test bounded, weighted KDEs"
   ]
  },
  {
   "cell_type": "code",
   "execution_count": 5,
   "metadata": {},
   "outputs": [
    {
     "data": {
      "text/plain": [
       "<module 'bounded_Nd_kde' from '/Users/michaelzevin/research/utilities/bounded_Nd_kde.py'>"
      ]
     },
     "execution_count": 5,
     "metadata": {},
     "output_type": "execute_result"
    }
   ],
   "source": [
    "reload(bounded_Nd_kde)\n",
    "\n",
    "mdl = 'CE/chi00/alpha10'\n",
    "df = pd.read_hdf(models_path, key=mdl)\n",
    "Nsamp = 100000\n",
    "bw = 0.01\n",
    "normalized = False\n",
    "detectable = False\n",
    "df = df.sample(Nsamp) if len(df)>Nsamp else df\n",
    "\n",
    "df['cosmo_weight'] = df['weight']/np.sum(df['weight'])\n",
    "\n",
    "df['combined_weight'] = (df['weight']/np.sum(df['weight'])) * (df['pdet_'+sensitivity]/np.sum(df['pdet_'+sensitivity]))\n",
    "df['combined_weight'] /= np.sum(df['combined_weight'])\n",
    "\n",
    "if normalized == True:\n",
    "    # Normalize the samples\n",
    "    params = ['mchirp','q','chieff','z']\n",
    "    for param in params:\n",
    "        df[param] = (df[param]-param_lims[param][0])/(param_lims[param][1]-param_lims[param][0])\n",
    "        \n",
    "reload(bounded_Nd_kde)"
   ]
  },
  {
   "cell_type": "markdown",
   "metadata": {},
   "source": [
    "#### 4D"
   ]
  },
  {
   "cell_type": "code",
   "execution_count": 7,
   "metadata": {},
   "outputs": [],
   "source": [
    "params=['mchirp','q','chieff','z']\n",
    "eval_pts = np.asarray([np.linspace(*param_lims[params[0]], 101), np.linspace(*param_lims[params[1]], 101), \\\n",
    "                       np.linspace(*param_lims[params[2]], 101), np.linspace(*param_lims[params[3]], 101)])\n",
    "\n",
    "X = np.atleast_2d([df[params[0]],df[params[1]],df[params[2]],df[params[3]]])\n",
    "Bounds = np.atleast_2d([param_lims[params[0]],param_lims[params[1]],param_lims[params[2]],param_lims[params[3]]])\n",
    "\n",
    "if normalized == True:\n",
    "    Bounds = np.atleast_2d([(0,1),(0,1),(0,1),(0,1)])\n",
    "    eval_pts = np.asarray([np.linspace(0,1, 101), np.linspace(0,1, 101), np.linspace(0,1, 101), np.linspace(0,1, 101)])\n",
    "\n",
    "\n",
    "kde_unweighted = bounded_Nd_kde.Bounded_Nd_kde(X, bounds=Bounds, bw_method=bw)\n",
    "kde_cosmo_weighted = bounded_Nd_kde.Bounded_Nd_kde(X, bounds=Bounds, bw_method=bw, weights=np.asarray(df['cosmo_weight']))\n",
    "kde_pdet_weighted = bounded_Nd_kde.Bounded_Nd_kde(X, bounds=Bounds, bw_method=bw, weights=np.asarray(df['combined_weight']))\n",
    "\n",
    "kde_eval = kde_unweighted(eval_pts)\n",
    "kde_eval_cosmo_weighted = kde_cosmo_weighted(eval_pts)\n",
    "kde_eval_pdet_weighted = kde_pdet_weighted(eval_pts)\n",
    "\n",
    "resamp_unweighted = kde_unweighted.bounded_resample(Nsamp)\n",
    "resamp_cosmo_weighted = kde_cosmo_weighted.bounded_resample(Nsamp)\n",
    "resamp_pdet_weighted = kde_pdet_weighted.bounded_resample(Nsamp)"
   ]
  },
  {
   "cell_type": "code",
   "execution_count": null,
   "metadata": {},
   "outputs": [],
   "source": [
    "print('Nrefl: {}'.format(kde_unweighted._refl_norm_factor))"
   ]
  },
  {
   "cell_type": "code",
   "execution_count": null,
   "metadata": {},
   "outputs": [],
   "source": [
    "# check 1D distributions against KDE resample\n",
    "N=10000\n",
    "\n",
    "fig, axs = plt.subplots(len(params),3, figsize=(18,5*len(params)))\n",
    "\n",
    "plt.suptitle(mdl, fontsize=35)\n",
    "\n",
    "axs[0,0].set_title('Unweighted', fontsize=25)\n",
    "axs[0,1].set_title('Cosmo Weighted', fontsize=25)\n",
    "axs[0,2].set_title('Cosmo+Pdet Weighted', fontsize=25)\n",
    "\n",
    "for idx, param in enumerate(params):\n",
    "    axs[idx,0].set_ylabel('p({:s})'.format(params[idx]))\n",
    "    \n",
    "    if normalized == True:\n",
    "        h, bins, _ = axs[idx,0].hist(df[param]*(param_lims[param][1]-param_lims[param][0]) + param_lims[param][0], bins=100, density=True, alpha=0.3, color=cp[0], label='samples')\n",
    "        h, bins, _ = axs[idx,0].hist(resamp_unweighted[idx]*(param_lims[param][1]-param_lims[param][0]) + param_lims[param][0], bins=100, density=True, histtype='step', color=cp[1], label='resampled')\n",
    "        h, bins, _ = axs[idx,1].hist(df[param]*(param_lims[param][1]-param_lims[param][0]) + param_lims[param][0], bins=100, density=True, weights=np.asarray(df['cosmo_weight']), alpha=0.3, color=cp[0])\n",
    "        h, bins, _ = axs[idx,1].hist(resamp_cosmo_weighted[idx]*(param_lims[param][1]-param_lims[param][0]) + param_lims[param][0], bins=100, density=True, histtype='step', color=cp[1])\n",
    "        h, bins, _ = axs[idx,2].hist(df[param]*(param_lims[param][1]-param_lims[param][0]) + param_lims[param][0], bins=100, density=True, weights=np.asarray(df['combined_weight']), alpha=0.3, color=cp[0])\n",
    "        h, bins, _ = axs[idx,2].hist(resamp_pdet_weighted[idx]*(param_lims[param][1]-param_lims[param][0]) + param_lims[param][0], bins=100, density=True, histtype='step', color=cp[1])\n",
    "    else:\n",
    "        h, bins, _ = axs[idx,0].hist(df[param], bins=100, density=True, alpha=0.3, color=cp[0], label='samples')\n",
    "        h, bins, _ = axs[idx,0].hist(resamp_unweighted[idx], bins=100, density=True, histtype='step', color=cp[1], label='resampled') \n",
    "        h, bins, _ = axs[idx,1].hist(df[param], bins=100, density=True, weights=np.asarray(df['cosmo_weight']), alpha=0.3, color=cp[0])\n",
    "        h, bins, _ = axs[idx,1].hist(resamp_cosmo_weighted[idx], bins=100, density=True, histtype='step', color=cp[1])\n",
    "        h, bins, _ = axs[idx,2].hist(df[param], bins=100, density=True, weights=np.asarray(df['combined_weight']), alpha=0.3, color=cp[0])\n",
    "        h, bins, _ = axs[idx,2].hist(resamp_pdet_weighted[idx], bins=100, density=True, histtype='step', color=cp[1])\n",
    "        \n",
    "    axs[0,0].legend(prop={'size':20})\n"
   ]
  },
  {
   "cell_type": "code",
   "execution_count": null,
   "metadata": {},
   "outputs": [],
   "source": []
  }
 ],
 "metadata": {
  "kernelspec": {
   "display_name": "modelselect-py37",
   "language": "python",
   "name": "modelselect-py37"
  },
  "language_info": {
   "codemirror_mode": {
    "name": "ipython",
    "version": 3
   },
   "file_extension": ".py",
   "mimetype": "text/x-python",
   "name": "python",
   "nbconvert_exporter": "python",
   "pygments_lexer": "ipython3",
   "version": "3.7.4"
  }
 },
 "nbformat": 4,
 "nbformat_minor": 4
}
